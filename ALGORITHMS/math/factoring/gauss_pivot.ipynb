{
  "nbformat": 4,
  "nbformat_minor": 0,
  "metadata": {
    "colab": {
      "name": "gauss_pivot.ipynb",
      "provenance": [],
      "collapsed_sections": []
    },
    "kernelspec": {
      "name": "python3",
      "display_name": "Python 3"
    }
  },
  "cells": [
    {
      "cell_type": "code",
      "metadata": {
        "id": "0KwveWodPHzn",
        "colab_type": "code",
        "colab": {}
      },
      "source": [
        "import numpy as np"
      ],
      "execution_count": 0,
      "outputs": []
    },
    {
      "cell_type": "markdown",
      "metadata": {
        "id": "ARH3NteLcycB",
        "colab_type": "text"
      },
      "source": [
        "<h3>Gauss com pivoteamento.</h3>\n",
        "<p>Busca transformar a diagonal da matriz em dominante selecionando os maiores elementos na linha.</p>\n",
        "<p>Outra medida é o maior elemento elativo na linha.</p> "
      ]
    },
    {
      "cell_type": "markdown",
      "metadata": {
        "id": "gqpYMYjccxc_",
        "colab_type": "text"
      },
      "source": [
        "```\n",
        "  para i em (1, n):\n",
        "    si = max(|Aij|)\n",
        "\n",
        "  para i em (1, n):\n",
        "    rij = |Aij|/si\n",
        "```"
      ]
    },
    {
      "cell_type": "code",
      "metadata": {
        "id": "coqfsd4IcGjv",
        "colab_type": "code",
        "colab": {}
      },
      "source": [
        "def gaussPivot(A, b, tol=1.0e-9):\n",
        "  # U decomposition for Ux = y \n",
        "  # return [A|b] (matriz aumentada)\n",
        "  n = len(b)\n",
        "  s = np.zeros([n])\n",
        "  for i in range(0, n):\n",
        "    s[i] = np.max(np.abs(A[i, :]))\n",
        "  \n",
        "  #pivoteamento\n",
        "  for k in np.arange(n-1):\n",
        "    p = np.argmax(np.abs(A[k, k:n]/s[k:n]))\n",
        "    # if(np.abs(A[p, k]) < tol):\n",
        "    #   print('Matriz singular!')\n",
        "    #   return -1\n",
        "    if(p != k):\n",
        "      swapRow(A, p, k)\n",
        "      swapRow(b, p, k)\n",
        "      swapRow(s, p, k)\n",
        "\n",
        "  #elimination\n",
        "    for i in range(k+1, n):\n",
        "      m = 0.0;\n",
        "      if(A[i, k] != 0):\n",
        "        m = A[i, k]/A[k, k]\n",
        "        A[i, k+1:n] -= m*A[k, k+1:n];\n",
        "        b[i] -= m*b[k]; \n",
        "\n",
        "  return [A, b]"
      ],
      "execution_count": 0,
      "outputs": []
    },
    {
      "cell_type": "code",
      "metadata": {
        "id": "WcxUMka6cIoA",
        "colab_type": "code",
        "colab": {}
      },
      "source": [
        "def backSubstituion(l, y): \n",
        "  # Ux = y\n",
        "  # return x is array size n\n",
        "  n = len(y)\n",
        "  for i in range(n-1, -1, -1):\n",
        "    y[i] = (y[i] - np.dot(l[i,i+1:n], y[i+1:n]))/l[i, i];\n",
        "  return y"
      ],
      "execution_count": 0,
      "outputs": []
    },
    {
      "cell_type": "markdown",
      "metadata": {
        "id": "5Kvx2Srccnbw",
        "colab_type": "text"
      },
      "source": [
        "<h3>Testando</h3>"
      ]
    },
    {
      "cell_type": "code",
      "metadata": {
        "id": "wVG7OaYqcn6Y",
        "colab_type": "code",
        "colab": {}
      },
      "source": [
        "A = np.array([[1, 1, 1],  \n",
        "              [1, 0, 10],  \n",
        "              [0,10, 1]], dtype='float64')\n",
        "b = [0,-48,25]\n",
        "\n",
        "x_pivo = np.linalg.solve(A, b)\n",
        "print(x_pivo)\n",
        "\n",
        "A, b = gaussPivot(A, b)\n",
        "print(backSubstituion(A, b))"
      ],
      "execution_count": 0,
      "outputs": []
    }
  ]
}