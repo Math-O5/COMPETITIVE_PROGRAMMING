{
  "nbformat": 4,
  "nbformat_minor": 0,
  "metadata": {
    "colab": {
      "name": "LUfatoring.ipynb",
      "provenance": []
    },
    "kernelspec": {
      "name": "python3",
      "display_name": "Python 3"
    }
  },
  "cells": [
    {
      "cell_type": "code",
      "metadata": {
        "id": "iNvzkKzHyndj",
        "colab_type": "code",
        "colab": {}
      },
      "source": [
        "import numpy as np"
      ],
      "execution_count": 0,
      "outputs": []
    },
    {
      "cell_type": "markdown",
      "metadata": {
        "id": "lIiT_USFJbqo",
        "colab_type": "text"
      },
      "source": [
        "**Foward Solution Ly = b (then)**, y = Ux\n",
        "```\n",
        "l11 0   0   | y1  = b1\n",
        "l21 l22 0   | y2  = b2\n",
        "l31 l32 l33 | y3  = b3\n",
        "(...)\n",
        "\n",
        "y1 = b1 / l11\n",
        "y2 = (b2 - l21*y1 ) / l22\n",
        "y3 = (b3 - l31*y1 - l32*y2) / l33\n",
        "\n",
        "for i = 0..n-1\n",
        "  yi = (bi - dot(matrix[i, 0:i], y[i, 0:i]))\n",
        "```"
      ]
    },
    {
      "cell_type": "code",
      "metadata": {
        "id": "fKpxja_VI7mp",
        "colab_type": "code",
        "colab": {}
      },
      "source": [
        "# Ly = b \n",
        "def forwardSubstitution(l, b):\n",
        "  n = len(l)\n",
        "  for i in range(1, n):\n",
        "    b[i] = b[i] - np.dot(l[i, 0:i], b[0:i]);\n",
        "  return b"
      ],
      "execution_count": 0,
      "outputs": []
    },
    {
      "cell_type": "markdown",
      "metadata": {
        "id": "FRHukIF4JUVj",
        "colab_type": "text"
      },
      "source": [
        "**Back Solution Ux = y (then)**\n",
        "```\n",
        "u11 u12 u13 | x1 = y1\n",
        "0   u22 u23 | x2 = y2\n",
        "0   0   u33 | x3 = y3\n",
        "(...)\n",
        "xn = yn/unn\n",
        "xn-1 = (y(n-1)-xn*u(n-1n)/u(n-1n-1) \n",
        "```"
      ]
    },
    {
      "cell_type": "code",
      "metadata": {
        "id": "fN24bsdgJQ4d",
        "colab_type": "code",
        "colab": {}
      },
      "source": [
        "# Ux = b\n",
        "# return x is array size n\n",
        "\n",
        "# u11 u12 u13 = b1\n",
        "# \n",
        "def backSubstituion(u, b): \n",
        "  n = len(b)\n",
        "  for i in range(n-1, -1, -1):\n",
        "    b[i] = (b[i] - np.dot(u[i,i+1:n], b[i+1:n]))/u[i, i];\n",
        "  return b"
      ],
      "execution_count": 0,
      "outputs": []
    },
    {
      "cell_type": "markdown",
      "metadata": {
        "id": "bv5Bsu0yvatc",
        "colab_type": "text"
      },
      "source": [
        "** A = LU **\n",
        "```\n",
        "A = [L\\U]\n",
        "A = u11 u12 u13\n",
        "    l21 u22 u23\n",
        "    l31 l32 u33\n",
        "```"
      ]
    },
    {
      "cell_type": "code",
      "metadata": {
        "id": "POotr2fgvZy7",
        "colab_type": "code",
        "colab": {}
      },
      "source": [
        "# LU fatoring for Ux = y \n",
        "#return [L\\U|b] (matriz aumentada)\n",
        "def LUfatoring(a):\n",
        "  n = len(a)\n",
        "\n",
        "  for k in range(0, n-1):\n",
        "    for i in range(k+1, n):\n",
        "      if(a[i, k]!=0):\n",
        "        m = a[i, k]/a[k, k]\n",
        "        a[i, k+1:n] -= m*a[k, k+1:n];\n",
        "        a[i, k] = m;\n",
        "\n",
        "  print(\"A=LU:\\n\", a)\n",
        "  return a"
      ],
      "execution_count": 0,
      "outputs": []
    },
    {
      "cell_type": "code",
      "metadata": {
        "id": "VBmR_aOZwfco",
        "colab_type": "code",
        "colab": {}
      },
      "source": [
        "def solveLU(a, b):\n",
        "  a = LUfatoring(a)\n",
        "  y = forwardSubstitution(a, b);\n",
        "  print(y)\n",
        "  x = backSubstituion(a, y); \n",
        "  return x"
      ],
      "execution_count": 0,
      "outputs": []
    },
    {
      "cell_type": "markdown",
      "metadata": {
        "id": "bmXIVmvFyhEx",
        "colab_type": "text"
      },
      "source": [
        "Testing..."
      ]
    },
    {
      "cell_type": "code",
      "metadata": {
        "id": "FQxe12LEx529",
        "colab_type": "code",
        "colab": {
          "base_uri": "https://localhost:8080/",
          "height": 68
        },
        "outputId": "90e2efe9-474a-448e-9c99-fe1d43bb5e13"
      },
      "source": [
        "ok = True;\n",
        "a = np.array([[4.0,-2.0, 1.0], [-2.0, 4.0, -2.0], [1.0, -2.0, 4.0]])\n",
        "if(a.shape[0] != a.shape[1]):\n",
        "  print(\"You should use nxn quadratic matrix, go back!\")\n",
        "  ok = False;\n",
        "else:\n",
        "  n  = a.shape[0]\n",
        "print(a)"
      ],
      "execution_count": 70,
      "outputs": [
        {
          "output_type": "stream",
          "text": [
            "[[ 4. -2.  1.]\n",
            " [-2.  4. -2.]\n",
            " [ 1. -2.  4.]]\n"
          ],
          "name": "stdout"
        }
      ]
    },
    {
      "cell_type": "code",
      "metadata": {
        "id": "twL4pKECzEM9",
        "colab_type": "code",
        "colab": {
          "base_uri": "https://localhost:8080/",
          "height": 34
        },
        "outputId": "8d31a471-f397-41ef-c21e-52cbd6fd2683"
      },
      "source": [
        "b = np.array([11.0,-16.0,17.0])\n",
        "if(b.shape[0]==n):\n",
        "  ok = True\n",
        "else:\n",
        "  ok = False\n",
        "print(b)"
      ],
      "execution_count": 71,
      "outputs": [
        {
          "output_type": "stream",
          "text": [
            "[ 11. -16.  17.]\n"
          ],
          "name": "stdout"
        }
      ]
    },
    {
      "cell_type": "code",
      "metadata": {
        "id": "XSXIowzNzK_W",
        "colab_type": "code",
        "colab": {
          "base_uri": "https://localhost:8080/",
          "height": 136
        },
        "outputId": "8364131d-89bb-40ab-d4e3-7d71d8fdddc1"
      },
      "source": [
        "print(\"Solution x is: \")\n",
        "print(solveLU(a, b))"
      ],
      "execution_count": 72,
      "outputs": [
        {
          "output_type": "stream",
          "text": [
            "Solution x is: \n",
            "A=LU:\n",
            " [[ 4.   -2.    1.  ]\n",
            " [-0.5   3.   -1.5 ]\n",
            " [ 0.25 -0.5   3.  ]]\n",
            "[ 11.  -10.5   9. ]\n",
            "[ 1. -2.  3.]\n"
          ],
          "name": "stdout"
        }
      ]
    },
    {
      "cell_type": "code",
      "metadata": {
        "id": "XEyLkNMC0Kvw",
        "colab_type": "code",
        "colab": {}
      },
      "source": [
        ""
      ],
      "execution_count": 0,
      "outputs": []
    }
  ]
}