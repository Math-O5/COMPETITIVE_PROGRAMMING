{
  "nbformat": 4,
  "nbformat_minor": 0,
  "metadata": {
    "colab": {
      "name": "Gauss Elimination",
      "provenance": [],
      "collapsed_sections": []
    },
    "kernelspec": {
      "name": "python3",
      "display_name": "Python 3"
    }
  },
  "cells": [
    {
      "cell_type": "code",
      "metadata": {
        "id": "PiGjdxQhPQnj",
        "colab_type": "code",
        "colab": {}
      },
      "source": [
        "import numpy as np"
      ],
      "execution_count": 0,
      "outputs": []
    },
    {
      "cell_type": "code",
      "metadata": {
        "id": "MM8NUprKQj--",
        "colab_type": "code",
        "outputId": "dbd05d86-215d-4309-de71-6a9888dfa300",
        "colab": {
          "base_uri": "https://localhost:8080/",
          "height": 68
        }
      },
      "source": [
        "a = np.array([[4.0,-2.0, 1.0], [-2.0, 4.0, -2.0], [1.0, -2.0, 4.0]])\n",
        "nx, ny = a.shape\n",
        "print(a)"
      ],
      "execution_count": 18,
      "outputs": [
        {
          "output_type": "stream",
          "text": [
            "[[ 4. -2.  1.]\n",
            " [-2.  4. -2.]\n",
            " [ 1. -2.  4.]]\n"
          ],
          "name": "stdout"
        }
      ]
    },
    {
      "cell_type": "code",
      "metadata": {
        "id": "NW5pJ8w-Q2S_",
        "colab_type": "code",
        "colab": {}
      },
      "source": [
        "b = np.array([11.0,-16.0,17.0])"
      ],
      "execution_count": 0,
      "outputs": []
    },
    {
      "cell_type": "code",
      "metadata": {
        "id": "pdIrXOgDSiZI",
        "colab_type": "code",
        "colab": {}
      },
      "source": [
        "# Ly = b \n",
        "def forwardSubstitution(l, b):\n",
        "  n = len(b)\n",
        "  x = np.zeros([n])\n",
        "  for i in range(0, n):\n",
        "    x[i] = b[i] - np.dot(u[i, 0:i], x[i, 0:i]);\n",
        "  return x"
      ],
      "execution_count": 0,
      "outputs": []
    },
    {
      "cell_type": "markdown",
      "metadata": {
        "id": "dcM6c8dj49Xw",
        "colab_type": "text"
      },
      "source": [
        "**Back Solution Ux = y (then)**\n",
        "```\n",
        "u11 u12 u13 | x1 = y1\n",
        "0   u22 u23 | x2 = y2\n",
        "0   0   u33 | x3 = y3\n",
        "(...)\n",
        "xn = yn/unn\n",
        "xn-1 = (y(n-1)-xn*u(n-1n)/u(n-1n-1) \n",
        "```"
      ]
    },
    {
      "cell_type": "code",
      "metadata": {
        "id": "WTPL6blAk7lY",
        "colab_type": "code",
        "colab": {}
      },
      "source": [
        "# Ux = b\n",
        "# return x is array size n\n",
        "\n",
        "# u11 u12 u13 = b1\n",
        "# \n",
        "def backSubstituion(u, b): \n",
        "  n = len(b)\n",
        "  for i in range(n-1, -1, -1):\n",
        "    b[i] = (b[i] - np.dot(u[i,i+1:n], b[i+1:n]))/u[i, i];\n",
        "  return b"
      ],
      "execution_count": 0,
      "outputs": []
    },
    {
      "cell_type": "code",
      "metadata": {
        "id": "nT-S4_Fpq3ZM",
        "colab_type": "code",
        "colab": {}
      },
      "source": [
        "# U fatoring for Ux = y \n",
        "#return [A|b] (matriz aumentada)\n",
        "def Ufatoring(u, y):\n",
        "  n = len(y)\n",
        "\n",
        "  for k in range(0, n-1):\n",
        "    for i in range(k+1, n):\n",
        "      m = 0.0;\n",
        "      if(u[i, k]!=0):\n",
        "        m = u[i, k]/u[k, k]\n",
        "        u[i, k+1:n] -= m*u[k, k+1:n];\n",
        "        y[i] -= m*y[k]; \n",
        "\n",
        "  print(\"U:\\n\", u)\n",
        "  print(\"y:\\n\", y)\n",
        "  return [u, y]"
      ],
      "execution_count": 0,
      "outputs": []
    },
    {
      "cell_type": "code",
      "metadata": {
        "id": "n7ObnaXl7cxS",
        "colab_type": "code",
        "colab": {}
      },
      "source": [
        "# Gaus Elination\n",
        "# return Ax = b\n",
        "def gausElimination(a, b):\n",
        "  u, y = Ufatoring(a, b)\n",
        "  x = backSubstituion(u, y)\n",
        "  return x"
      ],
      "execution_count": 0,
      "outputs": []
    },
    {
      "cell_type": "code",
      "metadata": {
        "id": "p6aoBJKn9JCF",
        "colab_type": "code",
        "outputId": "b0fdccb4-b17d-4806-89b4-b37264f3328c",
        "colab": {
          "base_uri": "https://localhost:8080/",
          "height": 153
        }
      },
      "source": [
        "print(\"Solution x is: \")\n",
        "print(gausElimination(np.copy(a), np.copy(b)))"
      ],
      "execution_count": 24,
      "outputs": [
        {
          "output_type": "stream",
          "text": [
            "Solution x is: \n",
            "U:\n",
            " [[ 4.  -2.   1. ]\n",
            " [-2.   3.  -1.5]\n",
            " [ 1.  -1.5  3. ]]\n",
            "y:\n",
            " [ 11.  -10.5   9. ]\n",
            "[ 1. -2.  3.]\n"
          ],
          "name": "stdout"
        }
      ]
    },
    {
      "cell_type": "code",
      "metadata": {
        "id": "PRcOGkKL9in9",
        "colab_type": "code",
        "colab": {}
      },
      "source": [
        ""
      ],
      "execution_count": 0,
      "outputs": []
    },
    {
      "cell_type": "code",
      "metadata": {
        "id": "MJNJMjwLCezA",
        "colab_type": "code",
        "colab": {}
      },
      "source": [
        ""
      ],
      "execution_count": 0,
      "outputs": []
    }
  ]
}