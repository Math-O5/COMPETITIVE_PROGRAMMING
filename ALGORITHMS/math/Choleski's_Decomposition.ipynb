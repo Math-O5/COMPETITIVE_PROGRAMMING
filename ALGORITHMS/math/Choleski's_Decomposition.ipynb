{
  "nbformat": 4,
  "nbformat_minor": 0,
  "metadata": {
    "colab": {
      "name": "Choleski's Decomposition.ipynb",
      "provenance": []
    },
    "kernelspec": {
      "name": "python3",
      "display_name": "Python 3"
    }
  },
  "cells": [
    {
      "cell_type": "code",
      "metadata": {
        "id": "zkIqg6Q4TGSH",
        "colab_type": "code",
        "colab": {}
      },
      "source": [
        "import numpy as np"
      ],
      "execution_count": 0,
      "outputs": []
    },
    {
      "cell_type": "markdown",
      "metadata": {
        "id": "HKTEiuQnTWu9",
        "colab_type": "text"
      },
      "source": [
        "** Choleski's method **\n",
        "```\n",
        "A is such as A = A^t (A is equal yoir transverse mode)\n",
        "A is positive defined\n",
        "L is the lower trianguler matrix of A:\n",
        "\n",
        " 1   0  0\n",
        "l21  1  0\n",
        "l31 l32 1\n",
        "\n",
        "and L^t is transverse of L.\n",
        "\n",
        "the,\n",
        "A = L (L^t),\n",
        "```"
      ]
    },
    {
      "cell_type": "code",
      "metadata": {
        "id": "U4XANuaYTUF6",
        "colab_type": "code",
        "colab": {}
      },
      "source": [
        "def transverse(a):\n",
        "  n = len(a)\n",
        "  for i in range(0, n):\n",
        "    b = np.copy(a[i, i:n])\n",
        "    a[i, i:n] = np.copy(a[i:n, i])\n",
        "    a[i:n, i] = np.copy(b)\n",
        "  return a"
      ],
      "execution_count": 0,
      "outputs": []
    },
    {
      "cell_type": "markdown",
      "metadata": {
        "id": "rO3Bw-TwYGkd",
        "colab_type": "text"
      },
      "source": [
        "testing..."
      ]
    },
    {
      "cell_type": "code",
      "metadata": {
        "id": "hpfB97jZX3pR",
        "colab_type": "code",
        "colab": {
          "base_uri": "https://localhost:8080/",
          "height": 85
        },
        "outputId": "5ec96534-14a8-489d-bad1-ec0ae88a9be5"
      },
      "source": [
        "ok = True;\n",
        "# a = np.array([[4.0,-2.0, 1.0], [-2.0, 4.0, -2.0], [1.0, -2.0, 4.0]])\n",
        "a = np.array([[3.0,-1.0, -1.0], [-1.0, 3.0, -1.0], [-1.0, -1.0, 3.0]])\n",
        "\n",
        "c = transverse(np.copy(a))\n",
        "if( (a.shape[0] != a.shape[1])):\n",
        "  print(\"You should use nxn quadratic matrix, go back!\")\n",
        "  ok = False;\n",
        "else:\n",
        "  n  = a.shape[0]\n",
        "  print(\"Choleski's Decomposition\")\n",
        "print(a == c)"
      ],
      "execution_count": 78,
      "outputs": [
        {
          "output_type": "stream",
          "text": [
            "Choleski's Decomposition\n",
            "[[ True  True  True]\n",
            " [ True  True  True]\n",
            " [ True  True  True]]\n"
          ],
          "name": "stdout"
        }
      ]
    },
    {
      "cell_type": "code",
      "metadata": {
        "id": "G8nz4CIrkxcc",
        "colab_type": "code",
        "colab": {}
      },
      "source": [
        "def choleskis(a):\n",
        "  n = len(a)\n",
        "  for i in range(0, n):\n",
        "    try:\n",
        "      a[i, i] = np.sqrt(a[i, i]-np.dot(a[i, 0:i], a[i, 0:i]))\n",
        "    except ValueError:\n",
        "      error.err('Not a define posit]ive Matrix')  \n",
        "    for k in range(i+1, n):\n",
        "      a[k,i] = (a[k,i] - np.dot(a[k, 0:i], a[i, 0:i]))/a[i,i]\n",
        "  for k in range(1, n):\n",
        "    a[0:k, k] = 0.0\n",
        "  return a"
      ],
      "execution_count": 0,
      "outputs": []
    },
    {
      "cell_type": "code",
      "metadata": {
        "id": "ZhZL-nSzlaur",
        "colab_type": "code",
        "colab": {
          "base_uri": "https://localhost:8080/",
          "height": 221
        },
        "outputId": "059b3314-4f9a-4930-d093-e8428a734135"
      },
      "source": [
        "l = choleskis(np.copy(a));\n",
        "c = transverse(np.copy(l));\n",
        "\n",
        "print(a)\n",
        "print(l)\n",
        "print(c)\n",
        "print(l.dot(c))"
      ],
      "execution_count": 85,
      "outputs": [
        {
          "output_type": "stream",
          "text": [
            "[[ 3. -1. -1.]\n",
            " [-1.  3. -1.]\n",
            " [-1. -1.  3.]]\n",
            "[[ 1.73205081  0.          0.        ]\n",
            " [-0.57735027  1.63299316  0.        ]\n",
            " [-0.57735027 -0.81649658  1.41421356]]\n",
            "[[ 1.73205081 -0.57735027 -0.57735027]\n",
            " [ 0.          1.63299316 -0.81649658]\n",
            " [ 0.          0.          1.41421356]]\n",
            "[[ 3. -1. -1.]\n",
            " [-1.  3. -1.]\n",
            " [-1. -1.  3.]]\n"
          ],
          "name": "stdout"
        }
      ]
    },
    {
      "cell_type": "code",
      "metadata": {
        "id": "2ohz8KY6mpEY",
        "colab_type": "code",
        "colab": {}
      },
      "source": [
        ""
      ],
      "execution_count": 0,
      "outputs": []
    }
  ]
}